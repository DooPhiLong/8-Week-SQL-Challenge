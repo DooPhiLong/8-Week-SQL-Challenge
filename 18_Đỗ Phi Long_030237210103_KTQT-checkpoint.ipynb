{
 "cells": [
  {
   "cell_type": "markdown",
   "metadata": {
    "id": "47v24UxrhNRb"
   },
   "source": [
    "## Kiểm tra giữa kỳ:\n",
    "# LẬP TRÌNH R TRONG THỐNG KÊ\n",
    "### Thời gian làm bài : <font color=\"red\">từ khi nhận đề đến 16h, Chủ Nhật ngày 05/03/2023 </font>\n",
    "#### Đọc kỹ các thông tin dưới đây trước khi làm bài:\n",
    "- Download folder được share sau đó đổi tên tập tin **STT_HoVaTen_MSSV_KTQT.ipynb** với STT là số thứ tự, HoVaTen là họ và tên, MSSV là mã số sinh viên của bạn,  \n",
    "- Làm bài thi vào tập tin **STT_HoVaTen_MSSV_KTQT.ipynb** và gửi đến email **nguyenphuong0122@gmail.com** để GV chấm điểm.\n",
    "- Đến deadline, HV không gửi bài thi sẽ không có điểm.\n",
    "- HV được sử dụng tài liệu.\n",
    "- HV sẽ bị trừ điểm nếu bài làm giống nhau.\n"
   ]
  },
  {
   "cell_type": "markdown",
   "metadata": {},
   "source": [
    "## <font color=\"red\"> Các bạn giúp thầy ghi số phút mà các bạn dành thời gian để làm cho mỗi ý nhỏ trong mỗi câu để thầy có cơ sở để ra đề thi cuối kỳ cho phù hợp. Hôm trước thầy có nhờ các bạn ghi trong bài kiểm tra quá trình, nhưng rất ít các bạn ghi nên thầy không có thông tin cần thiết. Chân thành cảm ơn các bạn.</font>"
   ]
  },
  {
   "cell_type": "markdown",
   "metadata": {
    "id": "ypuaTTa8JJ_R"
   },
   "source": [
    "## Câu 1:  Cho dữ liệu fruit_data_with_colors.txt (Dataframe, Làm việc với tập tin)\n",
    "### Hãy thực hiện các yêu cầu sau:"
   ]
  },
  {
   "cell_type": "code",
   "execution_count": 26,
   "metadata": {},
   "outputs": [
    {
     "name": "stderr",
     "output_type": "stream",
     "text": [
      "-- \u001b[1mAttaching core tidyverse packages\u001b[22m ---------------------------------------------------------------- tidyverse 2.0.0 --\n",
      "\u001b[32mv\u001b[39m \u001b[34mdplyr    \u001b[39m 1.1.0     \u001b[32mv\u001b[39m \u001b[34mreadr    \u001b[39m 2.1.4\n",
      "\u001b[32mv\u001b[39m \u001b[34mforcats  \u001b[39m 1.0.0     \u001b[32mv\u001b[39m \u001b[34mstringr  \u001b[39m 1.5.0\n",
      "\u001b[32mv\u001b[39m \u001b[34mggplot2  \u001b[39m 3.4.1     \u001b[32mv\u001b[39m \u001b[34mtibble   \u001b[39m 3.1.8\n",
      "\u001b[32mv\u001b[39m \u001b[34mlubridate\u001b[39m 1.9.2     \u001b[32mv\u001b[39m \u001b[34mtidyr    \u001b[39m 1.3.0\n",
      "\u001b[32mv\u001b[39m \u001b[34mpurrr    \u001b[39m 1.0.1     \n",
      "-- \u001b[1mConflicts\u001b[22m ---------------------------------------------------------------------------------- tidyverse_conflicts() --\n",
      "\u001b[31mx\u001b[39m \u001b[34mdplyr\u001b[39m::\u001b[32mfilter()\u001b[39m masks \u001b[34mstats\u001b[39m::filter()\n",
      "\u001b[31mx\u001b[39m \u001b[34mdplyr\u001b[39m::\u001b[32mlag()\u001b[39m    masks \u001b[34mstats\u001b[39m::lag()\n",
      "\u001b[36mi\u001b[39m Use the conflicted package (\u001b[3m\u001b[34m<http://conflicted.r-lib.org/>\u001b[39m\u001b[23m) to force all conflicts to become errors\n"
     ]
    }
   ],
   "source": [
    "library(tidyverse)\n",
    "library(ggplot2)"
   ]
  },
  {
   "cell_type": "markdown",
   "metadata": {
    "id": "yb442r32JJ_T"
   },
   "source": [
    "#### 1. Đọc dữ liệu. Xem thông tin dữ liệu với head(), tail(), str(), summary().\n"
   ]
  },
  {
   "cell_type": "code",
   "execution_count": 87,
   "metadata": {
    "id": "jyq3UpzPMXp4"
   },
   "outputs": [
    {
     "data": {
      "text/html": [
       "<table class=\"dataframe\">\n",
       "<caption>A data.frame: 6 × 7</caption>\n",
       "<thead>\n",
       "\t<tr><th></th><th scope=col>V1</th><th scope=col>V2</th><th scope=col>V3</th><th scope=col>V4</th><th scope=col>V5</th><th scope=col>V6</th><th scope=col>V7</th></tr>\n",
       "\t<tr><th></th><th scope=col>&lt;chr&gt;</th><th scope=col>&lt;chr&gt;</th><th scope=col>&lt;chr&gt;</th><th scope=col>&lt;chr&gt;</th><th scope=col>&lt;chr&gt;</th><th scope=col>&lt;chr&gt;</th><th scope=col>&lt;chr&gt;</th></tr>\n",
       "</thead>\n",
       "<tbody>\n",
       "\t<tr><th scope=row>1</th><td>fruit_label</td><td>fruit_name</td><td>fruit_subtype</td><td>mass</td><td>width</td><td>height</td><td>color_score</td></tr>\n",
       "\t<tr><th scope=row>2</th><td>1          </td><td>apple     </td><td>granny_smith </td><td>192 </td><td>8.4  </td><td>7.3   </td><td>0.55       </td></tr>\n",
       "\t<tr><th scope=row>3</th><td>1          </td><td>apple     </td><td>granny_smith </td><td>180 </td><td>8.0  </td><td>6.8   </td><td>0.59       </td></tr>\n",
       "\t<tr><th scope=row>4</th><td>1          </td><td>apple     </td><td>granny_smith </td><td>176 </td><td>7.4  </td><td>7.2   </td><td>0.60       </td></tr>\n",
       "\t<tr><th scope=row>5</th><td>2          </td><td>mandarin  </td><td>mandarin     </td><td>86  </td><td>6.2  </td><td>4.7   </td><td>0.80       </td></tr>\n",
       "\t<tr><th scope=row>6</th><td>2          </td><td>mandarin  </td><td>mandarin     </td><td>84  </td><td>6.0  </td><td>4.6   </td><td>0.79       </td></tr>\n",
       "</tbody>\n",
       "</table>\n"
      ],
      "text/latex": [
       "A data.frame: 6 × 7\n",
       "\\begin{tabular}{r|lllllll}\n",
       "  & V1 & V2 & V3 & V4 & V5 & V6 & V7\\\\\n",
       "  & <chr> & <chr> & <chr> & <chr> & <chr> & <chr> & <chr>\\\\\n",
       "\\hline\n",
       "\t1 & fruit\\_label & fruit\\_name & fruit\\_subtype & mass & width & height & color\\_score\\\\\n",
       "\t2 & 1           & apple      & granny\\_smith  & 192  & 8.4   & 7.3    & 0.55       \\\\\n",
       "\t3 & 1           & apple      & granny\\_smith  & 180  & 8.0   & 6.8    & 0.59       \\\\\n",
       "\t4 & 1           & apple      & granny\\_smith  & 176  & 7.4   & 7.2    & 0.60       \\\\\n",
       "\t5 & 2           & mandarin   & mandarin      & 86   & 6.2   & 4.7    & 0.80       \\\\\n",
       "\t6 & 2           & mandarin   & mandarin      & 84   & 6.0   & 4.6    & 0.79       \\\\\n",
       "\\end{tabular}\n"
      ],
      "text/markdown": [
       "\n",
       "A data.frame: 6 × 7\n",
       "\n",
       "| <!--/--> | V1 &lt;chr&gt; | V2 &lt;chr&gt; | V3 &lt;chr&gt; | V4 &lt;chr&gt; | V5 &lt;chr&gt; | V6 &lt;chr&gt; | V7 &lt;chr&gt; |\n",
       "|---|---|---|---|---|---|---|---|\n",
       "| 1 | fruit_label | fruit_name | fruit_subtype | mass | width | height | color_score |\n",
       "| 2 | 1           | apple      | granny_smith  | 192  | 8.4   | 7.3    | 0.55        |\n",
       "| 3 | 1           | apple      | granny_smith  | 180  | 8.0   | 6.8    | 0.59        |\n",
       "| 4 | 1           | apple      | granny_smith  | 176  | 7.4   | 7.2    | 0.60        |\n",
       "| 5 | 2           | mandarin   | mandarin      | 86   | 6.2   | 4.7    | 0.80        |\n",
       "| 6 | 2           | mandarin   | mandarin      | 84   | 6.0   | 4.6    | 0.79        |\n",
       "\n"
      ],
      "text/plain": [
       "  V1          V2         V3            V4   V5    V6     V7         \n",
       "1 fruit_label fruit_name fruit_subtype mass width height color_score\n",
       "2 1           apple      granny_smith  192  8.4   7.3    0.55       \n",
       "3 1           apple      granny_smith  180  8.0   6.8    0.59       \n",
       "4 1           apple      granny_smith  176  7.4   7.2    0.60       \n",
       "5 2           mandarin   mandarin      86   6.2   4.7    0.80       \n",
       "6 2           mandarin   mandarin      84   6.0   4.6    0.79       "
      ]
     },
     "metadata": {},
     "output_type": "display_data"
    },
    {
     "data": {
      "text/html": [
       "<table class=\"dataframe\">\n",
       "<caption>A data.frame: 6 × 7</caption>\n",
       "<thead>\n",
       "\t<tr><th></th><th scope=col>V1</th><th scope=col>V2</th><th scope=col>V3</th><th scope=col>V4</th><th scope=col>V5</th><th scope=col>V6</th><th scope=col>V7</th></tr>\n",
       "\t<tr><th></th><th scope=col>&lt;chr&gt;</th><th scope=col>&lt;chr&gt;</th><th scope=col>&lt;chr&gt;</th><th scope=col>&lt;chr&gt;</th><th scope=col>&lt;chr&gt;</th><th scope=col>&lt;chr&gt;</th><th scope=col>&lt;chr&gt;</th></tr>\n",
       "</thead>\n",
       "<tbody>\n",
       "\t<tr><th scope=row>55</th><td>4</td><td>lemon</td><td>unknown</td><td>120</td><td>6.0</td><td>8.4</td><td>0.74</td></tr>\n",
       "\t<tr><th scope=row>56</th><td>4</td><td>lemon</td><td>unknown</td><td>116</td><td>6.1</td><td>8.5</td><td>0.71</td></tr>\n",
       "\t<tr><th scope=row>57</th><td>4</td><td>lemon</td><td>unknown</td><td>116</td><td>6.3</td><td>7.7</td><td>0.72</td></tr>\n",
       "\t<tr><th scope=row>58</th><td>4</td><td>lemon</td><td>unknown</td><td>116</td><td>5.9</td><td>8.1</td><td>0.73</td></tr>\n",
       "\t<tr><th scope=row>59</th><td>4</td><td>lemon</td><td>unknown</td><td>152</td><td>6.5</td><td>8.5</td><td>0.72</td></tr>\n",
       "\t<tr><th scope=row>60</th><td>4</td><td>lemon</td><td>unknown</td><td>118</td><td>6.1</td><td>8.1</td><td>0.70</td></tr>\n",
       "</tbody>\n",
       "</table>\n"
      ],
      "text/latex": [
       "A data.frame: 6 × 7\n",
       "\\begin{tabular}{r|lllllll}\n",
       "  & V1 & V2 & V3 & V4 & V5 & V6 & V7\\\\\n",
       "  & <chr> & <chr> & <chr> & <chr> & <chr> & <chr> & <chr>\\\\\n",
       "\\hline\n",
       "\t55 & 4 & lemon & unknown & 120 & 6.0 & 8.4 & 0.74\\\\\n",
       "\t56 & 4 & lemon & unknown & 116 & 6.1 & 8.5 & 0.71\\\\\n",
       "\t57 & 4 & lemon & unknown & 116 & 6.3 & 7.7 & 0.72\\\\\n",
       "\t58 & 4 & lemon & unknown & 116 & 5.9 & 8.1 & 0.73\\\\\n",
       "\t59 & 4 & lemon & unknown & 152 & 6.5 & 8.5 & 0.72\\\\\n",
       "\t60 & 4 & lemon & unknown & 118 & 6.1 & 8.1 & 0.70\\\\\n",
       "\\end{tabular}\n"
      ],
      "text/markdown": [
       "\n",
       "A data.frame: 6 × 7\n",
       "\n",
       "| <!--/--> | V1 &lt;chr&gt; | V2 &lt;chr&gt; | V3 &lt;chr&gt; | V4 &lt;chr&gt; | V5 &lt;chr&gt; | V6 &lt;chr&gt; | V7 &lt;chr&gt; |\n",
       "|---|---|---|---|---|---|---|---|\n",
       "| 55 | 4 | lemon | unknown | 120 | 6.0 | 8.4 | 0.74 |\n",
       "| 56 | 4 | lemon | unknown | 116 | 6.1 | 8.5 | 0.71 |\n",
       "| 57 | 4 | lemon | unknown | 116 | 6.3 | 7.7 | 0.72 |\n",
       "| 58 | 4 | lemon | unknown | 116 | 5.9 | 8.1 | 0.73 |\n",
       "| 59 | 4 | lemon | unknown | 152 | 6.5 | 8.5 | 0.72 |\n",
       "| 60 | 4 | lemon | unknown | 118 | 6.1 | 8.1 | 0.70 |\n",
       "\n"
      ],
      "text/plain": [
       "   V1 V2    V3      V4  V5  V6  V7  \n",
       "55 4  lemon unknown 120 6.0 8.4 0.74\n",
       "56 4  lemon unknown 116 6.1 8.5 0.71\n",
       "57 4  lemon unknown 116 6.3 7.7 0.72\n",
       "58 4  lemon unknown 116 5.9 8.1 0.73\n",
       "59 4  lemon unknown 152 6.5 8.5 0.72\n",
       "60 4  lemon unknown 118 6.1 8.1 0.70"
      ]
     },
     "metadata": {},
     "output_type": "display_data"
    },
    {
     "name": "stdout",
     "output_type": "stream",
     "text": [
      "'data.frame':\t60 obs. of  7 variables:\n",
      " $ V1: chr  \"fruit_label\" \"1\" \"1\" \"1\" ...\n",
      " $ V2: chr  \"fruit_name\" \"apple\" \"apple\" \"apple\" ...\n",
      " $ V3: chr  \"fruit_subtype\" \"granny_smith\" \"granny_smith\" \"granny_smith\" ...\n",
      " $ V4: chr  \"mass\" \"192\" \"180\" \"176\" ...\n",
      " $ V5: chr  \"width\" \"8.4\" \"8.0\" \"7.4\" ...\n",
      " $ V6: chr  \"height\" \"7.3\" \"6.8\" \"7.2\" ...\n",
      " $ V7: chr  \"color_score\" \"0.55\" \"0.59\" \"0.60\" ...\n"
     ]
    },
    {
     "data": {
      "text/plain": [
       "      V1                 V2                 V3                 V4           \n",
       " Length:60          Length:60          Length:60          Length:60         \n",
       " Class :character   Class :character   Class :character   Class :character  \n",
       " Mode  :character   Mode  :character   Mode  :character   Mode  :character  \n",
       "      V5                 V6                 V7           \n",
       " Length:60          Length:60          Length:60         \n",
       " Class :character   Class :character   Class :character  \n",
       " Mode  :character   Mode  :character   Mode  :character  "
      ]
     },
     "metadata": {},
     "output_type": "display_data"
    }
   ],
   "source": [
    "fruit_data = read.table(\"C:/Users/Administrator/Downloads/fruit_data_with_colors.txt\")\n",
    "head(fruit_data)\n",
    "tail(fruit_data)\n",
    "str(fruit_data)\n",
    "summary(fruit_data)"
   ]
  },
  {
   "cell_type": "markdown",
   "metadata": {
    "id": "k7megExgJJ_j"
   },
   "source": [
    "#### 2. Hãy cho biết kiểu dữ liệu của cột fruit_name và fruit_subtype. Nếu kiểu dữ liệu không phải là factor thì hãy chuyển thành factor"
   ]
  },
  {
   "cell_type": "code",
   "execution_count": 88,
   "metadata": {
    "id": "TizowWhTMYpG"
   },
   "outputs": [
    {
     "name": "stdout",
     "output_type": "stream",
     "text": [
      "[1] \"Kieu du lieu ban dau\"\n"
     ]
    },
    {
     "data": {
      "text/html": [
       "'character'"
      ],
      "text/latex": [
       "'character'"
      ],
      "text/markdown": [
       "'character'"
      ],
      "text/plain": [
       "[1] \"character\""
      ]
     },
     "metadata": {},
     "output_type": "display_data"
    },
    {
     "data": {
      "text/html": [
       "'character'"
      ],
      "text/latex": [
       "'character'"
      ],
      "text/markdown": [
       "'character'"
      ],
      "text/plain": [
       "[1] \"character\""
      ]
     },
     "metadata": {},
     "output_type": "display_data"
    },
    {
     "name": "stdout",
     "output_type": "stream",
     "text": [
      "[1] \"Chuyen kieu du lieu thanh factor\"\n"
     ]
    },
    {
     "data": {
      "text/html": [
       "'factor'"
      ],
      "text/latex": [
       "'factor'"
      ],
      "text/markdown": [
       "'factor'"
      ],
      "text/plain": [
       "[1] \"factor\""
      ]
     },
     "metadata": {},
     "output_type": "display_data"
    },
    {
     "data": {
      "text/html": [
       "'factor'"
      ],
      "text/latex": [
       "'factor'"
      ],
      "text/markdown": [
       "'factor'"
      ],
      "text/plain": [
       "[1] \"factor\""
      ]
     },
     "metadata": {},
     "output_type": "display_data"
    }
   ],
   "source": [
    "# Chuyen dong dau tien thanh hang tieu de \n",
    "names(fruit_data) <- fruit_data[1,]\n",
    "fruit_data <- fruit_data[-1,]\n",
    "\n",
    "print(\"Kieu du lieu ban dau\")\n",
    "class(fruit_data$fruit_name)\n",
    "class(fruit_data$fruit_subtype)\n",
    "\n",
    "fruit_data$fruit_name = factor(fruit_data$fruit_name)\n",
    "fruit_data$fruit_subtype = factor(fruit_data$fruit_subtype)\n",
    "\n",
    "print(\"Chuyen kieu du lieu thanh factor\")\n",
    "class(fruit_data$fruit_name)\n",
    "class(fruit_data$fruit_subtype)\n"
   ]
  },
  {
   "cell_type": "markdown",
   "metadata": {
    "id": "j3j4fYsnJJ_n"
   },
   "source": [
    "#### 3. Có bao nhiêu loại fruit_name? Đó là những loại nào? Có bao nhiêu loại fruit_subtype? Đó là những loại nào?"
   ]
  },
  {
   "cell_type": "code",
   "execution_count": 90,
   "metadata": {
    "id": "sdhxMTv_E1XQ"
   },
   "outputs": [
    {
     "name": "stdout",
     "output_type": "stream",
     "text": [
      "[1] 4\n",
      "[1] \"apple\"    \"lemon\"    \"mandarin\" \"orange\"  \n",
      "[1] 10\n",
      " [1] \"braeburn\"         \"cripps_pink\"      \"golden_delicious\" \"granny_smith\"    \n",
      " [5] \"mandarin\"         \"selected_seconds\" \"spanish_belsan\"   \"spanish_jumbo\"   \n",
      " [9] \"turkey_navel\"     \"unknown\"         \n"
     ]
    }
   ],
   "source": [
    "print(nlevels(factor(fruit_data$fruit_name)))\n",
    "print(levels(factor(fruit_data$fruit_name))) \n",
    "\n",
    "print(nlevels(factor(fruit_data$fruit_subtype)))\n",
    "print(levels(factor(fruit_data$fruit_subtype))) "
   ]
  },
  {
   "cell_type": "markdown",
   "metadata": {
    "id": "9gU5rtPIJJ_w"
   },
   "source": [
    "#### 4. Hãy lọc ra tất cả các dòng dữ liệu có fruit_name là 'apple' chứa vào dataframe df_apple. Hãy cho biết có bao nhiêu dòng dữ liệu thỏa điều kiện này?"
   ]
  },
  {
   "cell_type": "code",
   "execution_count": 91,
   "metadata": {
    "scrolled": true
   },
   "outputs": [
    {
     "data": {
      "text/html": [
       "19"
      ],
      "text/latex": [
       "19"
      ],
      "text/markdown": [
       "19"
      ],
      "text/plain": [
       "[1] 19"
      ]
     },
     "metadata": {},
     "output_type": "display_data"
    }
   ],
   "source": [
    "df_apple = fruit_data[fruit_data$fruit_name == \"apple\",]\n",
    "nrow(df_apple)"
   ]
  },
  {
   "cell_type": "markdown",
   "metadata": {
    "id": "_cKzKBBXJJ_2"
   },
   "source": [
    "#### 5. Hãy lọc ra tất cả các dòng dữ liệu có fruit_subtype là 'golden_delicious' chứa vào dataframe df_golden_delicious. Hãy cho biết có bao nhiêu dòng dữ liệu thỏa điều kiện này?"
   ]
  },
  {
   "cell_type": "code",
   "execution_count": 92,
   "metadata": {
    "id": "BGV64TjvE23_"
   },
   "outputs": [
    {
     "data": {
      "text/html": [
       "5"
      ],
      "text/latex": [
       "5"
      ],
      "text/markdown": [
       "5"
      ],
      "text/plain": [
       "[1] 5"
      ]
     },
     "metadata": {},
     "output_type": "display_data"
    }
   ],
   "source": [
    "df_golden_delicious = fruit_data[fruit_data$fruit_subtype == \"golden_delicious\",]\n",
    "nrow(df_golden_delicious)"
   ]
  },
  {
   "cell_type": "markdown",
   "metadata": {
    "id": "Ca2xIATCJJ_-"
   },
   "source": [
    "#### 6. Nhóm theo fruit_subtype, hãy thống kê số lượng mẫu theo từng subtype; max và min từng cột mass, width, height. "
   ]
  },
  {
   "cell_type": "code",
   "execution_count": 93,
   "metadata": {
    "id": "FqmmDU4aE3f3"
   },
   "outputs": [
    {
     "data": {
      "text/html": [
       "<table class=\"dataframe\">\n",
       "<caption>A tibble: 10 × 8</caption>\n",
       "<thead>\n",
       "\t<tr><th scope=col>fruit_subtype</th><th scope=col>count</th><th scope=col>max.mass</th><th scope=col>min.mass</th><th scope=col>max.width</th><th scope=col>min.width</th><th scope=col>max.height</th><th scope=col>min.height</th></tr>\n",
       "\t<tr><th scope=col>&lt;fct&gt;</th><th scope=col>&lt;int&gt;</th><th scope=col>&lt;chr&gt;</th><th scope=col>&lt;chr&gt;</th><th scope=col>&lt;chr&gt;</th><th scope=col>&lt;chr&gt;</th><th scope=col>&lt;chr&gt;</th><th scope=col>&lt;chr&gt;</th></tr>\n",
       "</thead>\n",
       "<tbody>\n",
       "\t<tr><td>braeburn        </td><td> 5</td><td>178</td><td>154</td><td>7.4</td><td>6.9</td><td>7.8</td><td>7.0 </td></tr>\n",
       "\t<tr><td>cripps_pink     </td><td> 6</td><td>170</td><td>140</td><td>7.6</td><td>7.3</td><td>7.9</td><td>7.1 </td></tr>\n",
       "\t<tr><td>golden_delicious</td><td> 5</td><td>168</td><td>152</td><td>7.7</td><td>7.3</td><td>7.7</td><td>7.1 </td></tr>\n",
       "\t<tr><td>granny_smith    </td><td> 3</td><td>192</td><td>176</td><td>8.4</td><td>7.4</td><td>7.3</td><td>6.8 </td></tr>\n",
       "\t<tr><td>mandarin        </td><td> 5</td><td>86 </td><td>76 </td><td>6.2</td><td>5.8</td><td>4.7</td><td>4.0 </td></tr>\n",
       "\t<tr><td>selected_seconds</td><td> 6</td><td>210</td><td>140</td><td>7.8</td><td>6.7</td><td>9.2</td><td>7.0 </td></tr>\n",
       "\t<tr><td>spanish_belsan  </td><td> 6</td><td>216</td><td>174</td><td>7.3</td><td>7.2</td><td>9.7</td><td>10.1</td></tr>\n",
       "\t<tr><td>spanish_jumbo   </td><td> 3</td><td>362</td><td>342</td><td>9.6</td><td>9.0</td><td>9.4</td><td>9.2 </td></tr>\n",
       "\t<tr><td>turkey_navel    </td><td>10</td><td>190</td><td>142</td><td>7.6</td><td>6.8</td><td>8.2</td><td>7.2 </td></tr>\n",
       "\t<tr><td>unknown         </td><td>10</td><td>152</td><td>116</td><td>6.5</td><td>5.8</td><td>8.7</td><td>7.5 </td></tr>\n",
       "</tbody>\n",
       "</table>\n"
      ],
      "text/latex": [
       "A tibble: 10 × 8\n",
       "\\begin{tabular}{llllllll}\n",
       " fruit\\_subtype & count & max.mass & min.mass & max.width & min.width & max.height & min.height\\\\\n",
       " <fct> & <int> & <chr> & <chr> & <chr> & <chr> & <chr> & <chr>\\\\\n",
       "\\hline\n",
       "\t braeburn         &  5 & 178 & 154 & 7.4 & 6.9 & 7.8 & 7.0 \\\\\n",
       "\t cripps\\_pink      &  6 & 170 & 140 & 7.6 & 7.3 & 7.9 & 7.1 \\\\\n",
       "\t golden\\_delicious &  5 & 168 & 152 & 7.7 & 7.3 & 7.7 & 7.1 \\\\\n",
       "\t granny\\_smith     &  3 & 192 & 176 & 8.4 & 7.4 & 7.3 & 6.8 \\\\\n",
       "\t mandarin         &  5 & 86  & 76  & 6.2 & 5.8 & 4.7 & 4.0 \\\\\n",
       "\t selected\\_seconds &  6 & 210 & 140 & 7.8 & 6.7 & 9.2 & 7.0 \\\\\n",
       "\t spanish\\_belsan   &  6 & 216 & 174 & 7.3 & 7.2 & 9.7 & 10.1\\\\\n",
       "\t spanish\\_jumbo    &  3 & 362 & 342 & 9.6 & 9.0 & 9.4 & 9.2 \\\\\n",
       "\t turkey\\_navel     & 10 & 190 & 142 & 7.6 & 6.8 & 8.2 & 7.2 \\\\\n",
       "\t unknown          & 10 & 152 & 116 & 6.5 & 5.8 & 8.7 & 7.5 \\\\\n",
       "\\end{tabular}\n"
      ],
      "text/markdown": [
       "\n",
       "A tibble: 10 × 8\n",
       "\n",
       "| fruit_subtype &lt;fct&gt; | count &lt;int&gt; | max.mass &lt;chr&gt; | min.mass &lt;chr&gt; | max.width &lt;chr&gt; | min.width &lt;chr&gt; | max.height &lt;chr&gt; | min.height &lt;chr&gt; |\n",
       "|---|---|---|---|---|---|---|---|\n",
       "| braeburn         |  5 | 178 | 154 | 7.4 | 6.9 | 7.8 | 7.0  |\n",
       "| cripps_pink      |  6 | 170 | 140 | 7.6 | 7.3 | 7.9 | 7.1  |\n",
       "| golden_delicious |  5 | 168 | 152 | 7.7 | 7.3 | 7.7 | 7.1  |\n",
       "| granny_smith     |  3 | 192 | 176 | 8.4 | 7.4 | 7.3 | 6.8  |\n",
       "| mandarin         |  5 | 86  | 76  | 6.2 | 5.8 | 4.7 | 4.0  |\n",
       "| selected_seconds |  6 | 210 | 140 | 7.8 | 6.7 | 9.2 | 7.0  |\n",
       "| spanish_belsan   |  6 | 216 | 174 | 7.3 | 7.2 | 9.7 | 10.1 |\n",
       "| spanish_jumbo    |  3 | 362 | 342 | 9.6 | 9.0 | 9.4 | 9.2  |\n",
       "| turkey_navel     | 10 | 190 | 142 | 7.6 | 6.8 | 8.2 | 7.2  |\n",
       "| unknown          | 10 | 152 | 116 | 6.5 | 5.8 | 8.7 | 7.5  |\n",
       "\n"
      ],
      "text/plain": [
       "   fruit_subtype    count max.mass min.mass max.width min.width max.height\n",
       "1  braeburn          5    178      154      7.4       6.9       7.8       \n",
       "2  cripps_pink       6    170      140      7.6       7.3       7.9       \n",
       "3  golden_delicious  5    168      152      7.7       7.3       7.7       \n",
       "4  granny_smith      3    192      176      8.4       7.4       7.3       \n",
       "5  mandarin          5    86       76       6.2       5.8       4.7       \n",
       "6  selected_seconds  6    210      140      7.8       6.7       9.2       \n",
       "7  spanish_belsan    6    216      174      7.3       7.2       9.7       \n",
       "8  spanish_jumbo     3    362      342      9.6       9.0       9.4       \n",
       "9  turkey_navel     10    190      142      7.6       6.8       8.2       \n",
       "10 unknown          10    152      116      6.5       5.8       8.7       \n",
       "   min.height\n",
       "1  7.0       \n",
       "2  7.1       \n",
       "3  7.1       \n",
       "4  6.8       \n",
       "5  4.0       \n",
       "6  7.0       \n",
       "7  10.1      \n",
       "8  9.2       \n",
       "9  7.2       \n",
       "10 7.5       "
      ]
     },
     "metadata": {},
     "output_type": "display_data"
    }
   ],
   "source": [
    "summarize(group_by(fruit_data, fruit_subtype),\n",
    "          count=n(),\n",
    "          max.mass= max(mass,na.rm=T),\n",
    "          min.mass= min(mass,na.rm=T),\n",
    "          max.width= max(width,na.rm=T),\n",
    "          min.width= min(width,na.rm=T),\n",
    "          max.height= max(height,na.rm=T),\n",
    "          min.height= min(height,na.rm=T))"
   ]
  },
  {
   "cell_type": "markdown",
   "metadata": {},
   "source": [
    "## Câu 2: Điểm thi cuối kỳ - Normal Distribution\n",
    "### Giả sử rằng điểm kiểm tra cuối kỳ môn tiếng Anh phù hợp với Normal Distribution. Với điểm kiểm tra trung bình là 72 và độ lệch chuẩn là 15.2."
   ]
  },
  {
   "cell_type": "markdown",
   "metadata": {},
   "source": [
    "#### 1. Cho biết tỷ lệ học sinh đạt 84 điểm trở lên trong kỳ thi là bao nhiêu?"
   ]
  },
  {
   "cell_type": "code",
   "execution_count": 14,
   "metadata": {},
   "outputs": [
    {
     "data": {
      "text/html": [
       "0.214917602311272"
      ],
      "text/latex": [
       "0.214917602311272"
      ],
      "text/markdown": [
       "0.214917602311272"
      ],
      "text/plain": [
       "[1] 0.2149176"
      ]
     },
     "metadata": {},
     "output_type": "display_data"
    }
   ],
   "source": [
    "set.seed(123)\n",
    "pnorm(84,72,15.2,lower.tail = F )"
   ]
  },
  {
   "cell_type": "markdown",
   "metadata": {},
   "source": [
    "#### 2. Giả sử có 100 học sinh => hãy tạo ra các mẫu và vẽ histogram của các mẫu này."
   ]
  },
  {
   "cell_type": "code",
   "execution_count": 7,
   "metadata": {},
   "outputs": [
    {
     "data": {
      "image/png": "[encoded data removed]",
      "text/plain": [
       "Plot with title \"Histogram of X\""
      ]
     },
     "metadata": {
      "image/png": {
       "height": 420,
       "width": 420
      }
     },
     "output_type": "display_data"
    }
   ],
   "source": [
    "set.seed(123)\n",
    "X <- rnorm(100, mean=72, sd=15.2)\n",
    "hist(X)"
   ]
  },
  {
   "cell_type": "markdown",
   "metadata": {},
   "source": [
    "## Câu 3: EconomistData\n",
    "### Cho dữ liệu EconomistData.csv."
   ]
  },
  {
   "cell_type": "markdown",
   "metadata": {},
   "source": [
    "#### 1. Đọc và hiển thị head của dữ liệu. In thống kê chung về dữ liệu. In thông tin của dữ liệu"
   ]
  },
  {
   "cell_type": "code",
   "execution_count": 97,
   "metadata": {},
   "outputs": [
    {
     "data": {
      "text/html": [
       "<table class=\"dataframe\">\n",
       "<caption>A data.frame: 6 × 5</caption>\n",
       "<thead>\n",
       "\t<tr><th></th><th scope=col>Country</th><th scope=col>HDI.Rank</th><th scope=col>HDI</th><th scope=col>CPI</th><th scope=col>Region</th></tr>\n",
       "\t<tr><th></th><th scope=col>&lt;chr&gt;</th><th scope=col>&lt;int&gt;</th><th scope=col>&lt;dbl&gt;</th><th scope=col>&lt;dbl&gt;</th><th scope=col>&lt;chr&gt;</th></tr>\n",
       "</thead>\n",
       "<tbody>\n",
       "\t<tr><th scope=row>1</th><td>Afghanistan</td><td>172</td><td>0.398</td><td>1.5</td><td>Asia Pacific     </td></tr>\n",
       "\t<tr><th scope=row>2</th><td>Albania    </td><td> 70</td><td>0.739</td><td>3.1</td><td>East EU Cemt Asia</td></tr>\n",
       "\t<tr><th scope=row>3</th><td>Algeria    </td><td> 96</td><td>0.698</td><td>2.9</td><td>MENA             </td></tr>\n",
       "\t<tr><th scope=row>4</th><td>Angola     </td><td>148</td><td>0.486</td><td>2.0</td><td>SSA              </td></tr>\n",
       "\t<tr><th scope=row>5</th><td>Argentina  </td><td> 45</td><td>0.797</td><td>3.0</td><td>Americas         </td></tr>\n",
       "\t<tr><th scope=row>6</th><td>Armenia    </td><td> 86</td><td>0.716</td><td>2.6</td><td>East EU Cemt Asia</td></tr>\n",
       "</tbody>\n",
       "</table>\n"
      ],
      "text/latex": [
       "A data.frame: 6 × 5\n",
       "\\begin{tabular}{r|lllll}\n",
       "  & Country & HDI.Rank & HDI & CPI & Region\\\\\n",
       "  & <chr> & <int> & <dbl> & <dbl> & <chr>\\\\\n",
       "\\hline\n",
       "\t1 & Afghanistan & 172 & 0.398 & 1.5 & Asia Pacific     \\\\\n",
       "\t2 & Albania     &  70 & 0.739 & 3.1 & East EU Cemt Asia\\\\\n",
       "\t3 & Algeria     &  96 & 0.698 & 2.9 & MENA             \\\\\n",
       "\t4 & Angola      & 148 & 0.486 & 2.0 & SSA              \\\\\n",
       "\t5 & Argentina   &  45 & 0.797 & 3.0 & Americas         \\\\\n",
       "\t6 & Armenia     &  86 & 0.716 & 2.6 & East EU Cemt Asia\\\\\n",
       "\\end{tabular}\n"
      ],
      "text/markdown": [
       "\n",
       "A data.frame: 6 × 5\n",
       "\n",
       "| <!--/--> | Country &lt;chr&gt; | HDI.Rank &lt;int&gt; | HDI &lt;dbl&gt; | CPI &lt;dbl&gt; | Region &lt;chr&gt; |\n",
       "|---|---|---|---|---|---|\n",
       "| 1 | Afghanistan | 172 | 0.398 | 1.5 | Asia Pacific      |\n",
       "| 2 | Albania     |  70 | 0.739 | 3.1 | East EU Cemt Asia |\n",
       "| 3 | Algeria     |  96 | 0.698 | 2.9 | MENA              |\n",
       "| 4 | Angola      | 148 | 0.486 | 2.0 | SSA               |\n",
       "| 5 | Argentina   |  45 | 0.797 | 3.0 | Americas          |\n",
       "| 6 | Armenia     |  86 | 0.716 | 2.6 | East EU Cemt Asia |\n",
       "\n"
      ],
      "text/plain": [
       "  Country     HDI.Rank HDI   CPI Region           \n",
       "1 Afghanistan 172      0.398 1.5 Asia Pacific     \n",
       "2 Albania      70      0.739 3.1 East EU Cemt Asia\n",
       "3 Algeria      96      0.698 2.9 MENA             \n",
       "4 Angola      148      0.486 2.0 SSA              \n",
       "5 Argentina    45      0.797 3.0 Americas         \n",
       "6 Armenia      86      0.716 2.6 East EU Cemt Asia"
      ]
     },
     "metadata": {},
     "output_type": "display_data"
    },
    {
     "data": {
      "text/plain": [
       "   Country             HDI.Rank           HDI              CPI       \n",
       " Length:173         Min.   :  1.00   Min.   :0.2860   Min.   :1.500  \n",
       " Class :character   1st Qu.: 47.00   1st Qu.:0.5090   1st Qu.:2.500  \n",
       " Mode  :character   Median : 96.00   Median :0.6980   Median :3.200  \n",
       "                    Mean   : 95.28   Mean   :0.6581   Mean   :4.052  \n",
       "                    3rd Qu.:143.00   3rd Qu.:0.7930   3rd Qu.:5.100  \n",
       "                    Max.   :187.00   Max.   :0.9430   Max.   :9.500  \n",
       "    Region         \n",
       " Length:173        \n",
       " Class :character  \n",
       " Mode  :character  \n",
       "                   \n",
       "                   \n",
       "                   "
      ]
     },
     "metadata": {},
     "output_type": "display_data"
    },
    {
     "name": "stdout",
     "output_type": "stream",
     "text": [
      "'data.frame':\t173 obs. of  5 variables:\n",
      " $ Country : chr  \"Afghanistan\" \"Albania\" \"Algeria\" \"Angola\" ...\n",
      " $ HDI.Rank: int  172 70 96 148 45 86 2 19 91 53 ...\n",
      " $ HDI     : num  0.398 0.739 0.698 0.486 0.797 0.716 0.929 0.885 0.7 0.771 ...\n",
      " $ CPI     : num  1.5 3.1 2.9 2 3 2.6 8.8 7.8 2.4 7.3 ...\n",
      " $ Region  : chr  \"Asia Pacific\" \"East EU Cemt Asia\" \"MENA\" \"SSA\" ...\n"
     ]
    }
   ],
   "source": [
    "econ_data = read.csv(\"C:/Users/Administrator/Downloads/EconomistData.csv\")\n",
    "head(econ_data)\n",
    "summary(econ_data)\n",
    "str(econ_data)"
   ]
  },
  {
   "cell_type": "markdown",
   "metadata": {},
   "source": [
    "#### 2. Vẽ scatter plot biểu diễn mối quan hệ của $\\mathrm{CPI}$ vs HDI, điểm được tô màu theo Region, độ lớn của điểm theo HDI.Rank\n"
   ]
  },
  {
   "cell_type": "code",
   "execution_count": 98,
   "metadata": {},
   "outputs": [
    {
     "data": {
      "image/png": "[encoded data removed]",
      "text/plain": [
       "plot without title"
      ]
     },
     "metadata": {
      "image/png": {
       "height": 420,
       "width": 420
      }
     },
     "output_type": "display_data"
    }
   ],
   "source": [
    "ggplot(data=econ_data, aes(x=CPI, y=HDI, fill = Region, color = Region)) + geom_point(aes(size=HDI.Rank))  "
   ]
  },
  {
   "cell_type": "markdown",
   "metadata": {},
   "source": [
    "#### 3. Vẽ scatter plot biểu diễn mối quan hệ của CPI vs HDI có regression line"
   ]
  },
  {
   "cell_type": "code",
   "execution_count": 99,
   "metadata": {},
   "outputs": [
    {
     "name": "stderr",
     "output_type": "stream",
     "text": [
      "\u001b[1m\u001b[22m`geom_smooth()` using formula = 'y ~ x'\n"
     ]
    },
    {
     "data": {
      "image/png": "[encoded data removed]",
      "text/plain": [
       "plot without title"
      ]
     },
     "metadata": {
      "image/png": {
       "height": 420,
       "width": 420
      }
     },
     "output_type": "display_data"
    }
   ],
   "source": [
    "ggplot(data = econ_data, aes(x= CPI, y= HDI)) + geom_point()+ geom_smooth(method = \"lm\") + theme_bw(base_size =14)"
   ]
  },
  {
   "cell_type": "markdown",
   "metadata": {},
   "source": [
    "## Câu 3: Marketing  (Linear regression)\n",
    "### Cho dữ liệu trong tập tin marketing.csv\n",
    "### Thực hiện các yêu cầu sau:"
   ]
  },
  {
   "cell_type": "markdown",
   "metadata": {},
   "source": [
    "### 1. Yêu cầu 1:  Sử dụng Linear Regression để dự đoán sales dựa trên các thuộc tính youtube, facebook, newspaper.\n",
    "#### Gợi ý các bước thực hiện:\n",
    "#### a. Đọc dữ liệu\n",
    "#### b. In thông tin chung từ dữ liệu: head(), số dòng, số cột, str(), summary()\n",
    "#### c. Vẽ biểu đồ quan sát mối liên hệ giữa các biến\n",
    "#### d. Tiền xử lý dữ liệu\n",
    "#### e. Kiểm tra và xử lý outliers\n",
    "#### f. Tạo train:test từ dữ liệu data với tỉ lệ 70:30.\n",
    "#### g. Thực hiện Linenear Regression với train data.\n",
    "#### h. In summary của model\n",
    "#### i. Dự đoán y_test_predict từ test data => so sánh y_test_pred với y_test\n",
    "#### j. Tính Mean Square Error (mse), r^2 cho train, r^2 cho test. Nhận xét.\n",
    "#### k. Tìm Coefficients, Intercept"
   ]
  },
  {
   "cell_type": "code",
   "execution_count": 16,
   "metadata": {},
   "outputs": [],
   "source": [
    "mar = read.csv(\"C:/Users/Administrator/Downloads/marketing.csv\")"
   ]
  },
  {
   "cell_type": "code",
   "execution_count": 101,
   "metadata": {},
   "outputs": [
    {
     "data": {
      "text/html": [
       "<table class=\"dataframe\">\n",
       "<caption>A data.frame: 6 × 4</caption>\n",
       "<thead>\n",
       "\t<tr><th></th><th scope=col>youtube</th><th scope=col>facebook</th><th scope=col>newspaper</th><th scope=col>sales</th></tr>\n",
       "\t<tr><th></th><th scope=col>&lt;dbl&gt;</th><th scope=col>&lt;dbl&gt;</th><th scope=col>&lt;dbl&gt;</th><th scope=col>&lt;dbl&gt;</th></tr>\n",
       "</thead>\n",
       "<tbody>\n",
       "\t<tr><th scope=row>1</th><td>276.12</td><td>45.36</td><td>83.04</td><td>26.52</td></tr>\n",
       "\t<tr><th scope=row>2</th><td> 53.40</td><td>47.16</td><td>54.12</td><td>12.48</td></tr>\n",
       "\t<tr><th scope=row>3</th><td> 20.64</td><td>55.08</td><td>83.16</td><td>11.16</td></tr>\n",
       "\t<tr><th scope=row>4</th><td>181.80</td><td>49.56</td><td>70.20</td><td>22.20</td></tr>\n",
       "\t<tr><th scope=row>5</th><td>216.96</td><td>12.96</td><td>70.08</td><td>15.48</td></tr>\n",
       "\t<tr><th scope=row>6</th><td> 10.44</td><td>58.68</td><td>90.00</td><td> 8.64</td></tr>\n",
       "</tbody>\n",
       "</table>\n"
      ],
      "text/latex": [
       "A data.frame: 6 × 4\n",
       "\\begin{tabular}{r|llll}\n",
       "  & youtube & facebook & newspaper & sales\\\\\n",
       "  & <dbl> & <dbl> & <dbl> & <dbl>\\\\\n",
       "\\hline\n",
       "\t1 & 276.12 & 45.36 & 83.04 & 26.52\\\\\n",
       "\t2 &  53.40 & 47.16 & 54.12 & 12.48\\\\\n",
       "\t3 &  20.64 & 55.08 & 83.16 & 11.16\\\\\n",
       "\t4 & 181.80 & 49.56 & 70.20 & 22.20\\\\\n",
       "\t5 & 216.96 & 12.96 & 70.08 & 15.48\\\\\n",
       "\t6 &  10.44 & 58.68 & 90.00 &  8.64\\\\\n",
       "\\end{tabular}\n"
      ],
      "text/markdown": [
       "\n",
       "A data.frame: 6 × 4\n",
       "\n",
       "| <!--/--> | youtube &lt;dbl&gt; | facebook &lt;dbl&gt; | newspaper &lt;dbl&gt; | sales &lt;dbl&gt; |\n",
       "|---|---|---|---|---|\n",
       "| 1 | 276.12 | 45.36 | 83.04 | 26.52 |\n",
       "| 2 |  53.40 | 47.16 | 54.12 | 12.48 |\n",
       "| 3 |  20.64 | 55.08 | 83.16 | 11.16 |\n",
       "| 4 | 181.80 | 49.56 | 70.20 | 22.20 |\n",
       "| 5 | 216.96 | 12.96 | 70.08 | 15.48 |\n",
       "| 6 |  10.44 | 58.68 | 90.00 |  8.64 |\n",
       "\n"
      ],
      "text/plain": [
       "  youtube facebook newspaper sales\n",
       "1 276.12  45.36    83.04     26.52\n",
       "2  53.40  47.16    54.12     12.48\n",
       "3  20.64  55.08    83.16     11.16\n",
       "4 181.80  49.56    70.20     22.20\n",
       "5 216.96  12.96    70.08     15.48\n",
       "6  10.44  58.68    90.00      8.64"
      ]
     },
     "metadata": {},
     "output_type": "display_data"
    },
    {
     "data": {
      "text/html": [
       "200"
      ],
      "text/latex": [
       "200"
      ],
      "text/markdown": [
       "200"
      ],
      "text/plain": [
       "[1] 200"
      ]
     },
     "metadata": {},
     "output_type": "display_data"
    },
    {
     "data": {
      "text/html": [
       "4"
      ],
      "text/latex": [
       "4"
      ],
      "text/markdown": [
       "4"
      ],
      "text/plain": [
       "[1] 4"
      ]
     },
     "metadata": {},
     "output_type": "display_data"
    },
    {
     "name": "stdout",
     "output_type": "stream",
     "text": [
      "'data.frame':\t200 obs. of  4 variables:\n",
      " $ youtube  : num  276.1 53.4 20.6 181.8 217 ...\n",
      " $ facebook : num  45.4 47.2 55.1 49.6 13 ...\n",
      " $ newspaper: num  83 54.1 83.2 70.2 70.1 ...\n",
      " $ sales    : num  26.5 12.5 11.2 22.2 15.5 ...\n"
     ]
    },
    {
     "data": {
      "text/plain": [
       "    youtube          facebook       newspaper          sales      \n",
       " Min.   :  0.84   Min.   : 0.00   Min.   :  0.36   Min.   : 1.92  \n",
       " 1st Qu.: 89.25   1st Qu.:11.97   1st Qu.: 15.30   1st Qu.:12.45  \n",
       " Median :179.70   Median :27.48   Median : 30.90   Median :15.48  \n",
       " Mean   :176.45   Mean   :27.92   Mean   : 36.66   Mean   :16.83  \n",
       " 3rd Qu.:262.59   3rd Qu.:43.83   3rd Qu.: 54.12   3rd Qu.:20.88  \n",
       " Max.   :355.68   Max.   :59.52   Max.   :136.80   Max.   :32.40  "
      ]
     },
     "metadata": {},
     "output_type": "display_data"
    }
   ],
   "source": [
    "head(mar)\n",
    "nrow(mar)\n",
    "ncol(mar)\n",
    "str(mar)\n",
    "summary(mar)"
   ]
  },
  {
   "cell_type": "code",
   "execution_count": 47,
   "metadata": {},
   "outputs": [
    {
     "data": {
      "image/png": "[encoded data removed]",
      "text/plain": [
       "plot without title"
      ]
     },
     "metadata": {
      "image/png": {
       "height": 420,
       "width": 420
      }
     },
     "output_type": "display_data"
    }
   ],
   "source": [
    "# Ve bieu do quan sat lien he giua cac bien\n",
    "pairs(~ youtube+facebook+newspaper+sales, data = mar )"
   ]
  },
  {
   "cell_type": "code",
   "execution_count": 50,
   "metadata": {},
   "outputs": [
    {
     "data": {
      "image/png": "[encoded data removed]",
      "text/plain": [
       "Plot with title \"sales\""
      ]
     },
     "metadata": {
      "image/png": {
       "height": 420,
       "width": 420
      }
     },
     "output_type": "display_data"
    }
   ],
   "source": [
    "# Tien xu li du lieu\n",
    "# Kiem tra va xu li outlier\n",
    "par(mfrow = c(1,4))\n",
    "boxplot(mar$youtube, main = \"youtube\", sub= paste(\"Outlier \", boxplot.stats(mar$youtube)$out))\n",
    "boxplot(mar$facebook,main = \"facebook\", sub= paste(\"Outlier \", boxplot.stats(mar$facebook)$out))\n",
    "boxplot(mar$newspaper,main = \"newspaper\", sub= paste(\"Outlier \", boxplot.stats(mar$newspaper)$out))\n",
    "boxplot(mar$sales,main = \"sales\", sub= paste(\"Outlier \", boxplot.stats(mar$sales)$out))"
   ]
  },
  {
   "cell_type": "code",
   "execution_count": 102,
   "metadata": {},
   "outputs": [
    {
     "data": {
      "text/html": [
       "<style>\n",
       ".list-inline {list-style: none; margin:0; padding: 0}\n",
       ".list-inline>li {display: inline-block}\n",
       ".list-inline>li:not(:last-child)::after {content: \"\\00b7\"; padding: 0 .5ex}\n",
       "</style>\n",
       "<ol class=list-inline><li>136.8</li><li>121.08</li></ol>\n"
      ],
      "text/latex": [
       "\\begin{enumerate*}\n",
       "\\item 136.8\n",
       "\\item 121.08\n",
       "\\end{enumerate*}\n"
      ],
      "text/markdown": [
       "1. 136.8\n",
       "2. 121.08\n",
       "\n",
       "\n"
      ],
      "text/plain": [
       "[1] 136.80 121.08"
      ]
     },
     "metadata": {},
     "output_type": "display_data"
    },
    {
     "name": "stdout",
     "output_type": "stream",
     "text": [
      "[1] \"So dong ban dau :  200\"\n",
      "[1] \"So dong luc sau :  198\"\n"
     ]
    }
   ],
   "source": [
    "# Kiem tra va xu li outlier\n",
    "newspaper_out = boxplot.stats(mar$newspaper)$out\n",
    "newspaper_out\n",
    "print(paste(\"So dong ban dau : \",nrow(mar)))\n",
    "mar = mar[mar$newspaper != newspaper_out[1],]\n",
    "mar = mar[mar$newspaper != newspaper_out[2],]\n",
    "print(paste(\"So dong luc sau : \",nrow(mar)))"
   ]
  },
  {
   "cell_type": "code",
   "execution_count": 55,
   "metadata": {},
   "outputs": [],
   "source": [
    "# Tao train:test tu data voi ti le 70:30\n",
    "set.seed(42) \n",
    "trainingrowindex = sample(1:nrow(mar), 0.7*nrow(mar))\n",
    "training_data = mar[trainingrowindex,]\n",
    "test_data = mar[-trainingrowindex,]"
   ]
  },
  {
   "cell_type": "code",
   "execution_count": 56,
   "metadata": {},
   "outputs": [],
   "source": [
    "#Thuc hien Linenear Regression voi train data\n",
    "lmMod = lm(sales ~ youtube + facebook + newspaper , data =training_data )"
   ]
  },
  {
   "cell_type": "code",
   "execution_count": 58,
   "metadata": {},
   "outputs": [
    {
     "name": "stdout",
     "output_type": "stream",
     "text": [
      "\n",
      "Call:\n",
      "lm(formula = sales ~ youtube + facebook + newspaper, data = training_data)\n",
      "\n",
      "Residuals:\n",
      "    Min      1Q  Median      3Q     Max \n",
      "-6.7341 -1.0925  0.2395  1.4153  3.1875 \n",
      "\n",
      "Coefficients:\n",
      "             Estimate Std. Error t value Pr(>|t|)    \n",
      "(Intercept)  3.971115   0.449788   8.829  5.1e-15 ***\n",
      "youtube      0.043598   0.001636  26.653  < 2e-16 ***\n",
      "facebook     0.191722   0.009544  20.089  < 2e-16 ***\n",
      "newspaper   -0.003361   0.007215  -0.466    0.642    \n",
      "---\n",
      "Signif. codes:  0 '***' 0.001 '**' 0.01 '*' 0.05 '.' 0.1 ' ' 1\n",
      "\n",
      "Residual standard error: 1.93 on 134 degrees of freedom\n",
      "Multiple R-squared:  0.899,\tAdjusted R-squared:  0.8967 \n",
      "F-statistic: 397.4 on 3 and 134 DF,  p-value: < 2.2e-16\n",
      "\n"
     ]
    }
   ],
   "source": [
    "# In summary cua model\n",
    "print(summary(lmMod))"
   ]
  },
  {
   "cell_type": "code",
   "execution_count": 105,
   "metadata": {},
   "outputs": [
    {
     "data": {
      "image/png": "[encoded data removed]",
      "text/plain": [
       "Plot with title \"y_test\""
      ]
     },
     "metadata": {
      "image/png": {
       "height": 420,
       "width": 420
      }
     },
     "output_type": "display_data"
    }
   ],
   "source": [
    "# Du doan y_test_predict tu test data => so sanh y_test_pred voi y_test\n",
    "y_test_pred = predict(lmMod,test_data)\n",
    "\n",
    "# so sanh\n",
    "par(mfrow = c(1,2))\n",
    "hist(y_test_pred,main = \"y_test_predict\")\n",
    "hist(test_data$sales, main = \"y_test\")"
   ]
  },
  {
   "cell_type": "code",
   "execution_count": 103,
   "metadata": {},
   "outputs": [
    {
     "data": {
      "text/html": [
       "3.6180636721805"
      ],
      "text/latex": [
       "3.6180636721805"
      ],
      "text/markdown": [
       "3.6180636721805"
      ],
      "text/plain": [
       "[1] 3.618064"
      ]
     },
     "metadata": {},
     "output_type": "display_data"
    },
    {
     "data": {
      "text/html": [
       "5.21203493060536"
      ],
      "text/latex": [
       "5.21203493060536"
      ],
      "text/markdown": [
       "5.21203493060536"
      ],
      "text/plain": [
       "[1] 5.212035"
      ]
     },
     "metadata": {},
     "output_type": "display_data"
    },
    {
     "name": "stdout",
     "output_type": "stream",
     "text": [
      "[1] \"MSE cua train data nho hon test data\"\n"
     ]
    }
   ],
   "source": [
    "# Tinh Mean Square Error (mse), r^2 cho train, r^2 cho test. Nhan xet\n",
    "mse_train = mean(lmMod$residuals^2) \n",
    "mse_test = mean((test_data$sales - y_test_pred)^2)\n",
    "mse_train\n",
    "mse_test\n",
    "print(\"MSE cua train data nho hon test data\")"
   ]
  },
  {
   "cell_type": "code",
   "execution_count": 109,
   "metadata": {},
   "outputs": [
    {
     "data": {
      "text/html": [
       "<style>\n",
       ".dl-inline {width: auto; margin:0; padding: 0}\n",
       ".dl-inline>dt, .dl-inline>dd {float: none; width: auto; display: inline-block}\n",
       ".dl-inline>dt::after {content: \":\\0020\"; padding-right: .5ex}\n",
       ".dl-inline>dt:not(:first-of-type) {padding-left: .5ex}\n",
       "</style><dl class=dl-inline><dt>(Intercept)</dt><dd>3.97111485062799</dd><dt>youtube</dt><dd>0.0435975454678364</dd><dt>facebook</dt><dd>0.191722368858002</dd><dt>newspaper</dt><dd>-0.00336099839949565</dd></dl>\n"
      ],
      "text/latex": [
       "\\begin{description*}\n",
       "\\item[(Intercept)] 3.97111485062799\n",
       "\\item[youtube] 0.0435975454678364\n",
       "\\item[facebook] 0.191722368858002\n",
       "\\item[newspaper] -0.00336099839949565\n",
       "\\end{description*}\n"
      ],
      "text/markdown": [
       "(Intercept)\n",
       ":   3.97111485062799youtube\n",
       ":   0.0435975454678364facebook\n",
       ":   0.191722368858002newspaper\n",
       ":   -0.00336099839949565\n",
       "\n"
      ],
      "text/plain": [
       " (Intercept)      youtube     facebook    newspaper \n",
       " 3.971114851  0.043597545  0.191722369 -0.003360998 "
      ]
     },
     "metadata": {},
     "output_type": "display_data"
    },
    {
     "data": {
      "text/html": [
       "<strong>youtube:</strong> 0.0435975454678364"
      ],
      "text/latex": [
       "\\textbf{youtube:} 0.0435975454678364"
      ],
      "text/markdown": [
       "**youtube:** 0.0435975454678364"
      ],
      "text/plain": [
       "   youtube \n",
       "0.04359755 "
      ]
     },
     "metadata": {},
     "output_type": "display_data"
    },
    {
     "data": {
      "text/html": [
       "<strong>facebook:</strong> 0.191722368858002"
      ],
      "text/latex": [
       "\\textbf{facebook:} 0.191722368858002"
      ],
      "text/markdown": [
       "**facebook:** 0.191722368858002"
      ],
      "text/plain": [
       " facebook \n",
       "0.1917224 "
      ]
     },
     "metadata": {},
     "output_type": "display_data"
    },
    {
     "data": {
      "text/html": [
       "<strong>newspaper:</strong> -0.00336099839949565"
      ],
      "text/latex": [
       "\\textbf{newspaper:} -0.00336099839949565"
      ],
      "text/markdown": [
       "**newspaper:** -0.00336099839949565"
      ],
      "text/plain": [
       "   newspaper \n",
       "-0.003360998 "
      ]
     },
     "metadata": {},
     "output_type": "display_data"
    },
    {
     "data": {
      "text/html": [
       "<strong>(Intercept):</strong> 3.97111485062799"
      ],
      "text/latex": [
       "\\textbf{(Intercept):} 3.97111485062799"
      ],
      "text/markdown": [
       "**(Intercept):** 3.97111485062799"
      ],
      "text/plain": [
       "(Intercept) \n",
       "   3.971115 "
      ]
     },
     "metadata": {},
     "output_type": "display_data"
    }
   ],
   "source": [
    "# Tim Coefficients va Intercept\n",
    "coef(lmMod)\n",
    "coef(lmMod)[\"youtube\"]\n",
    "coef(lmMod)[\"facebook\"]\n",
    "coef(lmMod)[\"newspaper\"]\n",
    "coef(lmMod)[\"(Intercept)\"]"
   ]
  },
  {
   "cell_type": "markdown",
   "metadata": {},
   "source": [
    "### Yêu cầu 2: Áp dụng BMA cho dữ liệu trên để lựa chọn model với các thuộc tính phù hợp cho việc dùng Linear Regression dự đoán Petrol_Consumption"
   ]
  },
  {
   "cell_type": "code",
   "execution_count": 18,
   "metadata": {},
   "outputs": [],
   "source": [
    "library(\"BMA\")"
   ]
  },
  {
   "cell_type": "code",
   "execution_count": 19,
   "metadata": {},
   "outputs": [
    {
     "data": {
      "text/html": [
       "<table class=\"dataframe\">\n",
       "<caption>A data.frame: 6 × 4</caption>\n",
       "<thead>\n",
       "\t<tr><th></th><th scope=col>youtube</th><th scope=col>facebook</th><th scope=col>newspaper</th><th scope=col>sales</th></tr>\n",
       "\t<tr><th></th><th scope=col>&lt;dbl&gt;</th><th scope=col>&lt;dbl&gt;</th><th scope=col>&lt;dbl&gt;</th><th scope=col>&lt;dbl&gt;</th></tr>\n",
       "</thead>\n",
       "<tbody>\n",
       "\t<tr><th scope=row>1</th><td>276.12</td><td>45.36</td><td>83.04</td><td>26.52</td></tr>\n",
       "\t<tr><th scope=row>2</th><td> 53.40</td><td>47.16</td><td>54.12</td><td>12.48</td></tr>\n",
       "\t<tr><th scope=row>3</th><td> 20.64</td><td>55.08</td><td>83.16</td><td>11.16</td></tr>\n",
       "\t<tr><th scope=row>4</th><td>181.80</td><td>49.56</td><td>70.20</td><td>22.20</td></tr>\n",
       "\t<tr><th scope=row>5</th><td>216.96</td><td>12.96</td><td>70.08</td><td>15.48</td></tr>\n",
       "\t<tr><th scope=row>6</th><td> 10.44</td><td>58.68</td><td>90.00</td><td> 8.64</td></tr>\n",
       "</tbody>\n",
       "</table>\n"
      ],
      "text/latex": [
       "A data.frame: 6 × 4\n",
       "\\begin{tabular}{r|llll}\n",
       "  & youtube & facebook & newspaper & sales\\\\\n",
       "  & <dbl> & <dbl> & <dbl> & <dbl>\\\\\n",
       "\\hline\n",
       "\t1 & 276.12 & 45.36 & 83.04 & 26.52\\\\\n",
       "\t2 &  53.40 & 47.16 & 54.12 & 12.48\\\\\n",
       "\t3 &  20.64 & 55.08 & 83.16 & 11.16\\\\\n",
       "\t4 & 181.80 & 49.56 & 70.20 & 22.20\\\\\n",
       "\t5 & 216.96 & 12.96 & 70.08 & 15.48\\\\\n",
       "\t6 &  10.44 & 58.68 & 90.00 &  8.64\\\\\n",
       "\\end{tabular}\n"
      ],
      "text/markdown": [
       "\n",
       "A data.frame: 6 × 4\n",
       "\n",
       "| <!--/--> | youtube &lt;dbl&gt; | facebook &lt;dbl&gt; | newspaper &lt;dbl&gt; | sales &lt;dbl&gt; |\n",
       "|---|---|---|---|---|\n",
       "| 1 | 276.12 | 45.36 | 83.04 | 26.52 |\n",
       "| 2 |  53.40 | 47.16 | 54.12 | 12.48 |\n",
       "| 3 |  20.64 | 55.08 | 83.16 | 11.16 |\n",
       "| 4 | 181.80 | 49.56 | 70.20 | 22.20 |\n",
       "| 5 | 216.96 | 12.96 | 70.08 | 15.48 |\n",
       "| 6 |  10.44 | 58.68 | 90.00 |  8.64 |\n",
       "\n"
      ],
      "text/plain": [
       "  youtube facebook newspaper sales\n",
       "1 276.12  45.36    83.04     26.52\n",
       "2  53.40  47.16    54.12     12.48\n",
       "3  20.64  55.08    83.16     11.16\n",
       "4 181.80  49.56    70.20     22.20\n",
       "5 216.96  12.96    70.08     15.48\n",
       "6  10.44  58.68    90.00      8.64"
      ]
     },
     "metadata": {},
     "output_type": "display_data"
    }
   ],
   "source": [
    "head(mar)"
   ]
  },
  {
   "cell_type": "code",
   "execution_count": 20,
   "metadata": {},
   "outputs": [
    {
     "data": {
      "text/html": [
       "<style>\n",
       ".list-inline {list-style: none; margin:0; padding: 0}\n",
       ".list-inline>li {display: inline-block}\n",
       ".list-inline>li:not(:last-child)::after {content: \"\\00b7\"; padding: 0 .5ex}\n",
       "</style>\n",
       "<ol class=list-inline><li>'youtube'</li><li>'facebook'</li><li>'newspaper'</li><li>'sales'</li></ol>\n"
      ],
      "text/latex": [
       "\\begin{enumerate*}\n",
       "\\item 'youtube'\n",
       "\\item 'facebook'\n",
       "\\item 'newspaper'\n",
       "\\item 'sales'\n",
       "\\end{enumerate*}\n"
      ],
      "text/markdown": [
       "1. 'youtube'\n",
       "2. 'facebook'\n",
       "3. 'newspaper'\n",
       "4. 'sales'\n",
       "\n",
       "\n"
      ],
      "text/plain": [
       "[1] \"youtube\"   \"facebook\"  \"newspaper\" \"sales\"    "
      ]
     },
     "metadata": {},
     "output_type": "display_data"
    }
   ],
   "source": [
    "cols = colnames(mar)\n",
    "cols"
   ]
  },
  {
   "cell_type": "code",
   "execution_count": 29,
   "metadata": {},
   "outputs": [],
   "source": [
    "yvar =  mar[,(\"sales\")]\n",
    "xvars =  mar[,-4]\n",
    "bma = bicreg(xvars, yvar)"
   ]
  },
  {
   "cell_type": "code",
   "execution_count": 30,
   "metadata": {},
   "outputs": [
    {
     "name": "stdout",
     "output_type": "stream",
     "text": [
      "\n",
      "Call:\n",
      "bicreg(x = xvars, y = yvar)\n",
      "\n",
      "\n",
      "  2  models were selected\n",
      " Best  2  models (cumulative posterior probability =  1 ): \n",
      "\n",
      "           p!=0    EV         SD        model 1     model 2   \n",
      "Intercept  100.0   3.507e+00  0.354872   3.505e+00   3.527e+00\n",
      "youtube    100.0   4.576e-02  0.001391   4.575e-02   4.576e-02\n",
      "facebook   100.0   1.880e-01  0.008081   1.880e-01   1.885e-01\n",
      "newspaper    6.7  -6.977e-05  0.001545       .      -1.037e-03\n",
      "                                                              \n",
      "nVar                                       2           3      \n",
      "r2                                       0.897       0.897    \n",
      "BIC                                     -4.444e+02  -4.391e+02\n",
      "post prob                                0.933       0.067    \n"
     ]
    }
   ],
   "source": [
    "summary(bma)"
   ]
  },
  {
   "cell_type": "code",
   "execution_count": 31,
   "metadata": {},
   "outputs": [
    {
     "data": {
      "image/png": "[encoded data removed]",
      "text/plain": [
       "Plot with title \"Models selected by BMA\""
      ]
     },
     "metadata": {
      "image/png": {
       "height": 420,
       "width": 420
      }
     },
     "output_type": "display_data"
    }
   ],
   "source": [
    "imageplot.bma(bma)"
   ]
  }
 ],
 "metadata": {
  "colab": {
   "collapsed_sections": [
    "Ca2xIATCJJ_-",
    "wEG12KKDRoEU",
    "cC-W1-EdUSWK",
    "OF0ymOCpJKAI",
    "WJmm3cWBydJP",
    "AR7b4V_Mjnhn",
    "e4qomm4ZjsNt",
    "mXukDFM5jxxU",
    "6-A3BWvVkC3H",
    "r9GUwzs1x5eq",
    "XtyVOCa2x6PR",
    "OKqNGFcix9xq",
    "n7NI1xT9yAqK",
    "vUDT8ty2yDLi",
    "ZQxEjo-kyHAJ",
    "_23u2VYayKMq",
    "vjbpyruN0_iT",
    "n7WDDL0YyNKy",
    "v8SrXs7qyPwB",
    "Y2EqFZgDySTp"
   ],
   "provenance": []
  },
  "kernelspec": {
   "display_name": "R",
   "language": "R",
   "name": "ir"
  },
  "language_info": {
   "codemirror_mode": "r",
   "file_extension": ".r",
   "mimetype": "text/x-r-source",
   "name": "R",
   "pygments_lexer": "r",
   "version": "4.1.3"
  }
 },
 "nbformat": 4,
 "nbformat_minor": 1
}
